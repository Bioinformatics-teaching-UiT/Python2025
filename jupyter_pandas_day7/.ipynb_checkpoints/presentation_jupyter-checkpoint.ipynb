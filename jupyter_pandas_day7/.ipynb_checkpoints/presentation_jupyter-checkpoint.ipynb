{
 "cells": [
  {
   "cell_type": "markdown",
   "metadata": {
    "toc": true
   },
   "source": [
    "<h1>Table of Contents<span class=\"tocSkip\"></span></h1>\n",
    "<div class=\"toc\"><ul class=\"toc-item\"><li><span><a href=\"#&quot;Normal&quot;-Python-coding\" data-toc-modified-id=\"&quot;Normal&quot;-Python-coding-1\"><span class=\"toc-item-num\">1&nbsp;&nbsp;</span>\"Normal\" Python coding</a></span><ul class=\"toc-item\"><li><span><a href=\"#Get-help-on-a-function\" data-toc-modified-id=\"Get-help-on-a-function-1.1\"><span class=\"toc-item-num\">1.1&nbsp;&nbsp;</span>Get help on a function</a></span></li></ul></li><li><span><a href=\"#System-calls\" data-toc-modified-id=\"System-calls-2\"><span class=\"toc-item-num\">2&nbsp;&nbsp;</span>System calls</a></span></li><li><span><a href=\"#Magics\" data-toc-modified-id=\"Magics-3\"><span class=\"toc-item-num\">3&nbsp;&nbsp;</span>Magics</a></span></li><li><span><a href=\"#Text\" data-toc-modified-id=\"Text-4\"><span class=\"toc-item-num\">4&nbsp;&nbsp;</span>Text</a></span></li><li><span><a href=\"#Headings\" data-toc-modified-id=\"Headings-5\"><span class=\"toc-item-num\">5&nbsp;&nbsp;</span>Headings</a></span><ul class=\"toc-item\"><li><span><a href=\"#Sub-Headings\" data-toc-modified-id=\"Sub-Headings-5.1\"><span class=\"toc-item-num\">5.1&nbsp;&nbsp;</span>Sub-Headings</a></span><ul class=\"toc-item\"><li><span><a href=\"#Subsub-Headings\" data-toc-modified-id=\"Subsub-Headings-5.1.1\"><span class=\"toc-item-num\">5.1.1&nbsp;&nbsp;</span>Subsub-Headings</a></span></li></ul></li></ul></li></ul></div>"
   ]
  },
  {
   "cell_type": "markdown",
   "metadata": {},
   "source": [
    "# New heading"
   ]
  },
  {
   "cell_type": "markdown",
   "metadata": {},
   "source": [
    "## Second level heading"
   ]
  },
  {
   "cell_type": "markdown",
   "metadata": {},
   "source": [
    "# \"Normal\" Python coding"
   ]
  },
  {
   "cell_type": "code",
   "execution_count": 3,
   "metadata": {
    "ExecuteTime": {
     "end_time": "2020-04-02T08:02:17.361788Z",
     "start_time": "2020-04-02T08:02:17.357479Z"
    }
   },
   "outputs": [
    {
     "name": "stdout",
     "output_type": "stream",
     "text": [
      "Hello world!\n"
     ]
    }
   ],
   "source": [
    "print(\"Hello world!\")"
   ]
  },
  {
   "cell_type": "code",
   "execution_count": 2,
   "metadata": {},
   "outputs": [
    {
     "name": "stdout",
     "output_type": "stream",
     "text": [
      "Hello!\n"
     ]
    }
   ],
   "source": [
    "print(\"Hello!\")"
   ]
  },
  {
   "cell_type": "code",
   "execution_count": 4,
   "metadata": {
    "ExecuteTime": {
     "end_time": "2020-04-02T08:02:17.376954Z",
     "start_time": "2020-04-02T08:02:17.367326Z"
    }
   },
   "outputs": [],
   "source": [
    "def average(num_list):\n",
    "    return sum(num_list) / len(num_list)"
   ]
  },
  {
   "cell_type": "code",
   "execution_count": 5,
   "metadata": {
    "ExecuteTime": {
     "end_time": "2020-04-02T08:02:17.392231Z",
     "start_time": "2020-04-02T08:02:17.378443Z"
    }
   },
   "outputs": [
    {
     "data": {
      "text/plain": [
       "3.0"
      ]
     },
     "execution_count": 5,
     "metadata": {},
     "output_type": "execute_result"
    }
   ],
   "source": [
    "average([1, 1, 7])"
   ]
  },
  {
   "cell_type": "code",
   "execution_count": 7,
   "metadata": {
    "ExecuteTime": {
     "end_time": "2020-04-02T08:02:17.400723Z",
     "start_time": "2020-04-02T08:02:17.393991Z"
    }
   },
   "outputs": [],
   "source": [
    "hello = \"Hello world!\""
   ]
  },
  {
   "cell_type": "code",
   "execution_count": 8,
   "metadata": {
    "ExecuteTime": {
     "end_time": "2020-04-02T08:02:17.413050Z",
     "start_time": "2020-04-02T08:02:17.402344Z"
    }
   },
   "outputs": [
    {
     "name": "stdout",
     "output_type": "stream",
     "text": [
      "Hello world!\n"
     ]
    }
   ],
   "source": [
    "print(hello)"
   ]
  },
  {
   "cell_type": "markdown",
   "metadata": {},
   "source": [
    "## Get help on a function"
   ]
  },
  {
   "cell_type": "code",
   "execution_count": 9,
   "metadata": {
    "ExecuteTime": {
     "end_time": "2020-04-02T10:59:08.369935Z",
     "start_time": "2020-04-02T10:59:08.363187Z"
    }
   },
   "outputs": [],
   "source": [
    "def add(a, b):\n",
    "    \"\"\"\n",
    "    Adds two numbers.\n",
    "    :param a: First number\n",
    "    :param b: Second number\n",
    "    \"\"\"\n",
    "    return a+b"
   ]
  },
  {
   "cell_type": "code",
   "execution_count": 10,
   "metadata": {
    "ExecuteTime": {
     "end_time": "2020-04-02T10:58:58.249732Z",
     "start_time": "2020-04-02T10:58:58.194172Z"
    }
   },
   "outputs": [
    {
     "data": {
      "text/plain": [
       "\u001b[0;31mSignature:\u001b[0m \u001b[0madd\u001b[0m\u001b[0;34m(\u001b[0m\u001b[0ma\u001b[0m\u001b[0;34m,\u001b[0m \u001b[0mb\u001b[0m\u001b[0;34m)\u001b[0m\u001b[0;34m\u001b[0m\u001b[0;34m\u001b[0m\u001b[0m\n",
       "\u001b[0;31mDocstring:\u001b[0m\n",
       "Adds two numbers.\n",
       ":param a: First number\n",
       ":param b: Second number\n",
       "\u001b[0;31mFile:\u001b[0m      /var/folders/3q/vxpk74bd0k51n0b7t03lxjkh0000gp/T/ipykernel_63787/653066003.py\n",
       "\u001b[0;31mType:\u001b[0m      function\n"
      ]
     },
     "metadata": {},
     "output_type": "display_data"
    }
   ],
   "source": [
    "add?"
   ]
  },
  {
   "cell_type": "code",
   "execution_count": 11,
   "metadata": {
    "ExecuteTime": {
     "end_time": "2020-04-02T10:59:17.830283Z",
     "start_time": "2020-04-02T10:59:17.822996Z"
    }
   },
   "outputs": [
    {
     "data": {
      "text/plain": [
       "\u001b[0;31mSignature:\u001b[0m \u001b[0msum\u001b[0m\u001b[0;34m(\u001b[0m\u001b[0miterable\u001b[0m\u001b[0;34m,\u001b[0m \u001b[0;34m/\u001b[0m\u001b[0;34m,\u001b[0m \u001b[0mstart\u001b[0m\u001b[0;34m=\u001b[0m\u001b[0;36m0\u001b[0m\u001b[0;34m)\u001b[0m\u001b[0;34m\u001b[0m\u001b[0;34m\u001b[0m\u001b[0m\n",
       "\u001b[0;31mDocstring:\u001b[0m\n",
       "Return the sum of a 'start' value (default: 0) plus an iterable of numbers\n",
       "\n",
       "When the iterable is empty, return the start value.\n",
       "This function is intended specifically for use with numeric values and may\n",
       "reject non-numeric types.\n",
       "\u001b[0;31mType:\u001b[0m      builtin_function_or_method\n"
      ]
     },
     "metadata": {},
     "output_type": "display_data"
    }
   ],
   "source": [
    "sum?"
   ]
  },
  {
   "cell_type": "code",
   "execution_count": 12,
   "metadata": {},
   "outputs": [
    {
     "name": "stdout",
     "output_type": "stream",
     "text": [
      "Help on built-in function sum in module builtins:\n",
      "\n",
      "sum(iterable, /, start=0)\n",
      "    Return the sum of a 'start' value (default: 0) plus an iterable of numbers\n",
      "    \n",
      "    When the iterable is empty, return the start value.\n",
      "    This function is intended specifically for use with numeric values and may\n",
      "    reject non-numeric types.\n",
      "\n"
     ]
    }
   ],
   "source": [
    "help(sum)"
   ]
  },
  {
   "cell_type": "markdown",
   "metadata": {},
   "source": [
    "# System calls"
   ]
  },
  {
   "cell_type": "code",
   "execution_count": 13,
   "metadata": {
    "ExecuteTime": {
     "end_time": "2020-04-02T08:02:17.532314Z",
     "start_time": "2020-04-02T08:02:17.414588Z"
    }
   },
   "outputs": [
    {
     "data": {
      "text/plain": [
       "'/Users/ihe027/home/git/Python_2024/jupyter_pandas_day7'"
      ]
     },
     "execution_count": 13,
     "metadata": {},
     "output_type": "execute_result"
    }
   ],
   "source": [
    "pwd"
   ]
  },
  {
   "cell_type": "code",
   "execution_count": 14,
   "metadata": {
    "ExecuteTime": {
     "end_time": "2020-04-02T08:02:17.656121Z",
     "start_time": "2020-04-02T08:02:17.534368Z"
    }
   },
   "outputs": [
    {
     "name": "stdout",
     "output_type": "stream",
     "text": [
      "\u001b[34mbiodiversity\u001b[m\u001b[m/               presentation_numpy.ipynb\n",
      "day7_presentation.pdf       presentation_pandas.ipynb\n",
      "\u001b[31mgene_mapping.tsv\u001b[m\u001b[m*           \u001b[31mpresentation_scipy.ipynb\u001b[m\u001b[m*\n",
      "intro_jupy_pandas.ipynb     \u001b[31mspecies_info.csv\u001b[m\u001b[m*\n",
      "iris.csv                    stockholm_td_adj.dat\n",
      "\u001b[31mobservations.csv\u001b[m\u001b[m*           \u001b[31mtips.csv\u001b[m\u001b[m*\n",
      "presentation_jupyter.ipynb\n"
     ]
    }
   ],
   "source": [
    "ls"
   ]
  },
  {
   "cell_type": "code",
   "execution_count": null,
   "metadata": {
    "ExecuteTime": {
     "end_time": "2020-04-02T08:02:18.268466Z",
     "start_time": "2020-04-02T08:02:17.657427Z"
    }
   },
   "outputs": [],
   "source": [
    "pip freeze | grep jupyter"
   ]
  },
  {
   "cell_type": "markdown",
   "metadata": {},
   "source": [
    "# Magics"
   ]
  },
  {
   "cell_type": "code",
   "execution_count": 15,
   "metadata": {
    "ExecuteTime": {
     "end_time": "2020-04-02T08:02:18.454046Z",
     "start_time": "2020-04-02T08:02:18.279126Z"
    }
   },
   "outputs": [
    {
     "name": "stdout",
     "output_type": "stream",
     "text": [
      "1\n",
      "2\n",
      "3\n",
      "4\n",
      "5\n",
      "6\n",
      "7\n",
      "8\n",
      "9\n",
      "10\n"
     ]
    }
   ],
   "source": [
    "%%ruby\n",
    "for i in 1..10 do\n",
    "    puts(i)\n",
    "end"
   ]
  },
  {
   "cell_type": "code",
   "execution_count": 16,
   "metadata": {
    "ExecuteTime": {
     "end_time": "2020-04-02T08:02:18.474062Z",
     "start_time": "2020-04-02T08:02:18.457822Z"
    }
   },
   "outputs": [
    {
     "name": "stdout",
     "output_type": "stream",
     "text": [
      "Hello world!\n"
     ]
    }
   ],
   "source": [
    "%%bash\n",
    "echo Hello world!"
   ]
  },
  {
   "cell_type": "code",
   "execution_count": 17,
   "metadata": {
    "ExecuteTime": {
     "end_time": "2020-04-02T08:15:01.746915Z",
     "start_time": "2020-04-02T08:15:01.724954Z"
    }
   },
   "outputs": [
    {
     "name": "stdout",
     "output_type": "stream",
     "text": [
      "Hello world!\n",
      "CPU times: user 150 µs, sys: 50 µs, total: 200 µs\n",
      "Wall time: 259 µs\n"
     ]
    }
   ],
   "source": [
    "%%time\n",
    "print(\"Hello world!\")"
   ]
  },
  {
   "cell_type": "markdown",
   "metadata": {},
   "source": [
    "# Text"
   ]
  },
  {
   "cell_type": "markdown",
   "metadata": {
    "ExecuteTime": {
     "end_time": "2020-04-02T08:03:41.597373Z",
     "start_time": "2020-04-02T08:03:41.587345Z"
    }
   },
   "source": [
    "This is a text cell. I can write Markdown here to format text.\n",
    "For example, I can make things **bold** or _cursive_.\n",
    "I can also insert links: http://google.com"
   ]
  },
  {
   "cell_type": "code",
   "execution_count": 18,
   "metadata": {
    "ExecuteTime": {
     "end_time": "2020-04-02T08:24:44.053385Z",
     "start_time": "2020-04-02T08:24:43.879555Z"
    }
   },
   "outputs": [],
   "source": [
    "import antigravity"
   ]
  },
  {
   "cell_type": "markdown",
   "metadata": {},
   "source": [
    "# Headings"
   ]
  },
  {
   "cell_type": "markdown",
   "metadata": {},
   "source": [
    "## Sub-Headings"
   ]
  },
  {
   "cell_type": "markdown",
   "metadata": {},
   "source": [
    "### Subsub-Headings"
   ]
  }
 ],
 "metadata": {
  "kernelspec": {
   "display_name": "Python 3 (ipykernel)",
   "language": "python",
   "name": "python3"
  },
  "language_info": {
   "codemirror_mode": {
    "name": "ipython",
    "version": 3
   },
   "file_extension": ".py",
   "mimetype": "text/x-python",
   "name": "python",
   "nbconvert_exporter": "python",
   "pygments_lexer": "ipython3",
   "version": "3.9.19"
  },
  "toc": {
   "base_numbering": 1,
   "nav_menu": {},
   "number_sections": true,
   "sideBar": true,
   "skip_h1_title": false,
   "title_cell": "Table of Contents",
   "title_sidebar": "Contents",
   "toc_cell": true,
   "toc_position": {},
   "toc_section_display": true,
   "toc_window_display": false
  },
  "varInspector": {
   "cols": {
    "lenName": 16,
    "lenType": 16,
    "lenVar": 40
   },
   "kernels_config": {
    "python": {
     "delete_cmd_postfix": "",
     "delete_cmd_prefix": "del ",
     "library": "var_list.py",
     "varRefreshCmd": "print(var_dic_list())"
    },
    "r": {
     "delete_cmd_postfix": ") ",
     "delete_cmd_prefix": "rm(",
     "library": "var_list.r",
     "varRefreshCmd": "cat(var_dic_list()) "
    }
   },
   "types_to_exclude": [
    "module",
    "function",
    "builtin_function_or_method",
    "instance",
    "_Feature"
   ],
   "window_display": false
  }
 },
 "nbformat": 4,
 "nbformat_minor": 4
}
